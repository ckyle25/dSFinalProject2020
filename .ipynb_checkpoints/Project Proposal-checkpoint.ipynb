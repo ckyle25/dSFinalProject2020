{
 "cells": [
  {
   "cell_type": "markdown",
   "metadata": {},
   "source": [
    "# Project Title\n",
    "\n",
    "Accident predictions in Utah"
   ]
  },
  {
   "cell_type": "markdown",
   "metadata": {},
   "source": [
    "## Group Info\n",
    "Name1:Kyle Cornwall\n",
    "<br>\n",
    "E-mail1:ckyle25@gmail.com\n",
    "<br>\n",
    "UID1:U0450537\n",
    "<br>\n",
    "Name2: Shushanna Mkrtychyan\n",
    "<br>\n",
    "E-mail2:u1195417@utah.edu\n",
    "<br>\n",
    "UID2:U1195417\n",
    "<br>"
   ]
  },
  {
   "cell_type": "markdown",
   "metadata": {},
   "source": [
    "# Background / Motivation\n",
    "\n",
    "**Discuss your motivations and reasons for choosing this project, especially any background or research interests that may have influenced your decision.**<br/>\n",
    "\n",
    "   \n",
    "Accidents happen all the time. On average, there are over 5,891,000 vehicle crashes each year. Approximately 21% of these crashes - nearly 1,235,000 - are weather-related. Weather-related crashes are defined as those crashes that occur in adverse weather.<br/><br/>\n",
    "          According to utah.heath.gov, accidents occur in Utah every 10 minutes, a person is injured in a crash every 23 minutes, and a person dies in a crash every 36 hours. There are many reasons what cause crashes in Utah; speed, failure to keep in the proper lane, distracted driving, etc. However, we believe that bad weather and temperature is often a major contributing factor that people get into car crashes. <br/><br/>\n",
    "          Being Utah residents we especially care about our friends and family’s safety. Utah has the most unpredictable weather conditions. People driving in poor conditions need to be extra careful, whether its snow, rain or wind. It is the drivers’ duty to adapt to road conditions, and avoid crashes. \n",
    "That motivated us to construct a model that can predict the number of accidents in Utah based on conducted information on Utah accidents and weather data. "
   ]
  },
  {
   "cell_type": "markdown",
   "metadata": {},
   "source": [
    "# Project Objectives\n",
    "\n",
    "**Provide the primary questions you are trying to answer in your project. What would you like to learn and accomplish? List the benefits**<br/>\n",
    "\n",
    "\n",
    "  1. Can we predict the number car accidents that occur on any given day?          \n",
    "  2. How much of an impact does snow/rainfall, time of the day, holidays or season, has on crashes in Utah roads? \n",
    "  3. What values are important to use or consider, to predict the number of accidents?<br/><br/> \n",
    "We are sampling the data with different approaches to learn the differences between weather, time, temperature, seasons that cause car accidents. We would like to know if data science can help us to accomplish our goals and understand what factors cause accidents. Does snow or wind really have a significant outcomes on a number of crashes in Utah?\n",
    "Our goal is to predict if weather conditions have a major impact on crashes in Utah. The benefits that anyone can receive from this project analysis can be examined and used while driving in different weather conditions.  Everyone knows that more accidents occur during bad weather conditions. We can visualize the data and express it in charts, graphs, etc. "
   ]
  },
  {
   "cell_type": "markdown",
   "metadata": {},
   "source": [
    "# Data\n",
    "**From where and how are you collecting your data? If appropriate, provide a link to your data sources.**<br/>\n",
    "The data will be gathered and exported from the following websites: <br/><br/>\n",
    "**Accident Data:** https://gis.utah.gov/developer/applications/vehicle-collision/ - Data is provided at an accident grain in the form of a CSV download and lists the time, location, and other factors involved with the accident. <br/><br/>\n",
    "**Weather Data:** This with be gathered from the World Weather Online API via one request with an export to a CSV file. The CSV will the be imported to a pandas dataframe. (Documentation: https://www.worldweatheronline.com/developer/api/docs/)"
   ]
  },
  {
   "cell_type": "code",
   "execution_count": 16,
   "metadata": {},
   "outputs": [],
   "source": [
    "# from wwo_hist import retrieve_hist_data\n",
    "# frequency = 24\n",
    "# start_date = '01-JAN-2016'\n",
    "# end_date = '31-DEC-2019'\n",
    "# api_key = 'a6cd8966ce0743ef986210109202202'\n",
    "# location_list = ['salt+lake+city']\n",
    "# hist_weather_data = retrieve_hist_data(api_key,\n",
    "#                                 location_list,\n",
    "#                                 start_date,\n",
    "#                                 end_date,\n",
    "#                                 frequency,\n",
    "#                                 location_label = False,\n",
    "#                                 export_csv = True,\n",
    "#                                 store_df = True)"
   ]
  },
  {
   "cell_type": "markdown",
   "metadata": {},
   "source": [
    "# Ethical considerations\n",
    "\n",
    "**Complete a stakeholder analysis for your project**.\n",
    "\n",
    "The ethical matters in this project need to be considered throughout the downloading and using the data; the values we want to receive in the solution we’re building. We need to make sure, that the message we are trying to deliver involves all stakeholders, especially the people who are going to be impacted by this system.<br/><br/>\n",
    "The data that we will be using in our project is available to public and is used only for educational research purposes. \n",
    "No data or information is going to be used that will interrupt privacy or confidentiality of any organization or people in general. Data collected in this project is provided by government and not by an organization, which makes data to be legitimate."
   ]
  },
  {
   "cell_type": "markdown",
   "metadata": {},
   "source": [
    "# Data Processing\n",
    "\n",
    "**Do you expect to do substantial data cleanup or data extraction?**:<br/>\n",
    "The data extraction will be done once so that we are not continuously hitting the api.  There are a few missing values throughout the accident data. Particularly in the city, lattitude, longitude, milepoint, and route columns. The county column seems fairly populated though and should at least allow us to narrow the missing columns we are interested in. We can then potentially include a portion of them based off of the other column information.<br/><br/>\n",
    "**What quantities do you plan to derive from your data?**<br/>\n",
    "We will likely pull 3-6 years of daily data for training the model.<br/><br/>\n",
    "**How will data processing be implemented?**<br/>\n",
    "From there we will need to combine the dataset likely through a few group by function on the accident data to get it to the day grain."
   ]
  },
  {
   "cell_type": "markdown",
   "metadata": {},
   "source": [
    "# Exploratory Analysis\n",
    "\n",
    "**Which methods and visualizations are you planning to use to look at your dataset?**<br/>\n",
    "It would be ideal to initially look at the 2 datasets separately to look for trending or patterns in each respective set. There is likely going to be a degree of seasonality associated with both sets largely tied to weather patterns. A simple line graph could display these trends in an informative way. It would be interesting to look at a dual axis graph with date being the common denominator. Once we look for patterns in the individual dataset, they will be combined and the typical corrleation visualizations will be done. Looking at both a heatmap of the correlation matrix and a scatter-matrix of the data will give us an idea of where correlations (if any) exist."
   ]
  },
  {
   "cell_type": "markdown",
   "metadata": {},
   "source": [
    "# Analysis Methodology\n",
    "\n",
    "**How are you planning to analyze your data?**<br/>\n",
    "From an initial impression one would expect the number of accidents to be correlated with temperature and snow levels. Initial analyses will show whether these hypothesis are true. Given that we are trying to predict the number of accidents based on an array of continuous ratio variables, an initial approach could be to use linear regression. If relationships are actually non-linear, the next model attempt could revolve around descision trees or random forest analyses."
   ]
  },
  {
   "cell_type": "markdown",
   "metadata": {},
   "source": [
    "# Project Schedule\n",
    "\n",
    "Make sure that you plan your work so that you can avoid a big rush right before the final project deadline, and delegate different modules and responsibilities among your team members. Write this in terms of weekly deadlines.\n",
    "\n",
    "<img src=\"SchedulePic.png\" width=\"100%\">"
   ]
  }
 ],
 "metadata": {
  "kernelspec": {
   "display_name": "Python 3",
   "language": "python",
   "name": "python3"
  },
  "language_info": {
   "codemirror_mode": {
    "name": "ipython",
    "version": 3
   },
   "file_extension": ".py",
   "mimetype": "text/x-python",
   "name": "python",
   "nbconvert_exporter": "python",
   "pygments_lexer": "ipython3",
   "version": "3.6.5"
  }
 },
 "nbformat": 4,
 "nbformat_minor": 2
}
